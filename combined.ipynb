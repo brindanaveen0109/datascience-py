{
 "cells": [
  {
   "cell_type": "markdown",
   "id": "812b13c4",
   "metadata": {},
   "source": [
    "## Importing the necessary libraries"
   ]
  },
  {
   "cell_type": "code",
   "execution_count": 43,
   "id": "899a7b56",
   "metadata": {},
   "outputs": [],
   "source": [
    "import numpy as np\n",
    "import pandas as pd\n",
    "import matplotlib.pyplot as plt\n",
    "from sklearn.model_selection import train_test_split\n",
    "from sklearn.linear_model import LinearRegression\n",
    "from sklearn.tree import DecisionTreeRegressor\n",
    "from sklearn.ensemble import RandomForestRegressor\n",
    "from sklearn.linear_model import Ridge\n",
    "from sklearn.metrics import mean_squared_error, mean_absolute_error, r2_score"
   ]
  },
  {
   "cell_type": "markdown",
   "id": "489da397",
   "metadata": {},
   "source": [
    "## Importing the data set"
   ]
  },
  {
   "cell_type": "code",
   "execution_count": 44,
   "id": "f622205f",
   "metadata": {},
   "outputs": [
    {
     "data": {
      "text/html": [
       "<div>\n",
       "<style scoped>\n",
       "    .dataframe tbody tr th:only-of-type {\n",
       "        vertical-align: middle;\n",
       "    }\n",
       "\n",
       "    .dataframe tbody tr th {\n",
       "        vertical-align: top;\n",
       "    }\n",
       "\n",
       "    .dataframe thead th {\n",
       "        text-align: right;\n",
       "    }\n",
       "</style>\n",
       "<table border=\"1\" class=\"dataframe\">\n",
       "  <thead>\n",
       "    <tr style=\"text-align: right;\">\n",
       "      <th></th>\n",
       "      <th>R&amp;D Spend</th>\n",
       "      <th>Administration</th>\n",
       "      <th>Marketing Spend</th>\n",
       "      <th>Profit</th>\n",
       "    </tr>\n",
       "  </thead>\n",
       "  <tbody>\n",
       "    <tr>\n",
       "      <th>0</th>\n",
       "      <td>165349.20</td>\n",
       "      <td>136897.80</td>\n",
       "      <td>471784.10</td>\n",
       "      <td>192261.83</td>\n",
       "    </tr>\n",
       "    <tr>\n",
       "      <th>1</th>\n",
       "      <td>162597.70</td>\n",
       "      <td>151377.59</td>\n",
       "      <td>443898.53</td>\n",
       "      <td>191792.06</td>\n",
       "    </tr>\n",
       "    <tr>\n",
       "      <th>2</th>\n",
       "      <td>153441.51</td>\n",
       "      <td>101145.55</td>\n",
       "      <td>407934.54</td>\n",
       "      <td>191050.39</td>\n",
       "    </tr>\n",
       "    <tr>\n",
       "      <th>3</th>\n",
       "      <td>144372.41</td>\n",
       "      <td>118671.85</td>\n",
       "      <td>383199.62</td>\n",
       "      <td>182901.99</td>\n",
       "    </tr>\n",
       "    <tr>\n",
       "      <th>4</th>\n",
       "      <td>142107.34</td>\n",
       "      <td>91391.77</td>\n",
       "      <td>366168.42</td>\n",
       "      <td>166187.94</td>\n",
       "    </tr>\n",
       "  </tbody>\n",
       "</table>\n",
       "</div>"
      ],
      "text/plain": [
       "   R&D Spend  Administration  Marketing Spend     Profit\n",
       "0  165349.20       136897.80        471784.10  192261.83\n",
       "1  162597.70       151377.59        443898.53  191792.06\n",
       "2  153441.51       101145.55        407934.54  191050.39\n",
       "3  144372.41       118671.85        383199.62  182901.99\n",
       "4  142107.34        91391.77        366168.42  166187.94"
      ]
     },
     "execution_count": 44,
     "metadata": {},
     "output_type": "execute_result"
    }
   ],
   "source": [
    "#importing the data\n",
    "data= pd.read_csv('Startups.csv')\n",
    "data.head()"
   ]
  },
  {
   "cell_type": "code",
   "execution_count": 45,
   "id": "5a9ec867",
   "metadata": {},
   "outputs": [
    {
     "data": {
      "text/html": [
       "<div>\n",
       "<style scoped>\n",
       "    .dataframe tbody tr th:only-of-type {\n",
       "        vertical-align: middle;\n",
       "    }\n",
       "\n",
       "    .dataframe tbody tr th {\n",
       "        vertical-align: top;\n",
       "    }\n",
       "\n",
       "    .dataframe thead th {\n",
       "        text-align: right;\n",
       "    }\n",
       "</style>\n",
       "<table border=\"1\" class=\"dataframe\">\n",
       "  <thead>\n",
       "    <tr style=\"text-align: right;\">\n",
       "      <th></th>\n",
       "      <th>R&amp;D Spend</th>\n",
       "      <th>Administration</th>\n",
       "      <th>Marketing Spend</th>\n",
       "      <th>Profit</th>\n",
       "    </tr>\n",
       "  </thead>\n",
       "  <tbody>\n",
       "    <tr>\n",
       "      <th>count</th>\n",
       "      <td>50.000000</td>\n",
       "      <td>50.000000</td>\n",
       "      <td>50.000000</td>\n",
       "      <td>50.000000</td>\n",
       "    </tr>\n",
       "    <tr>\n",
       "      <th>mean</th>\n",
       "      <td>73721.615600</td>\n",
       "      <td>121344.639600</td>\n",
       "      <td>211025.097800</td>\n",
       "      <td>112012.639200</td>\n",
       "    </tr>\n",
       "    <tr>\n",
       "      <th>std</th>\n",
       "      <td>45902.256482</td>\n",
       "      <td>28017.802755</td>\n",
       "      <td>122290.310726</td>\n",
       "      <td>40306.180338</td>\n",
       "    </tr>\n",
       "    <tr>\n",
       "      <th>min</th>\n",
       "      <td>0.000000</td>\n",
       "      <td>51283.140000</td>\n",
       "      <td>0.000000</td>\n",
       "      <td>14681.400000</td>\n",
       "    </tr>\n",
       "    <tr>\n",
       "      <th>25%</th>\n",
       "      <td>39936.370000</td>\n",
       "      <td>103730.875000</td>\n",
       "      <td>129300.132500</td>\n",
       "      <td>90138.902500</td>\n",
       "    </tr>\n",
       "    <tr>\n",
       "      <th>50%</th>\n",
       "      <td>73051.080000</td>\n",
       "      <td>122699.795000</td>\n",
       "      <td>212716.240000</td>\n",
       "      <td>107978.190000</td>\n",
       "    </tr>\n",
       "    <tr>\n",
       "      <th>75%</th>\n",
       "      <td>101602.800000</td>\n",
       "      <td>144842.180000</td>\n",
       "      <td>299469.085000</td>\n",
       "      <td>139765.977500</td>\n",
       "    </tr>\n",
       "    <tr>\n",
       "      <th>max</th>\n",
       "      <td>165349.200000</td>\n",
       "      <td>182645.560000</td>\n",
       "      <td>471784.100000</td>\n",
       "      <td>192261.830000</td>\n",
       "    </tr>\n",
       "  </tbody>\n",
       "</table>\n",
       "</div>"
      ],
      "text/plain": [
       "           R&D Spend  Administration  Marketing Spend         Profit\n",
       "count      50.000000       50.000000        50.000000      50.000000\n",
       "mean    73721.615600   121344.639600    211025.097800  112012.639200\n",
       "std     45902.256482    28017.802755    122290.310726   40306.180338\n",
       "min         0.000000    51283.140000         0.000000   14681.400000\n",
       "25%     39936.370000   103730.875000    129300.132500   90138.902500\n",
       "50%     73051.080000   122699.795000    212716.240000  107978.190000\n",
       "75%    101602.800000   144842.180000    299469.085000  139765.977500\n",
       "max    165349.200000   182645.560000    471784.100000  192261.830000"
      ]
     },
     "execution_count": 45,
     "metadata": {},
     "output_type": "execute_result"
    }
   ],
   "source": [
    "data.describe()"
   ]
  },
  {
   "cell_type": "markdown",
   "id": "002febc1",
   "metadata": {},
   "source": [
    "## Preprocessing the data and scaling the data"
   ]
  },
  {
   "cell_type": "markdown",
   "id": "845bcb10",
   "metadata": {},
   "source": [
    "### 1.Checking for null values"
   ]
  },
  {
   "cell_type": "code",
   "execution_count": 46,
   "id": "32c01566",
   "metadata": {},
   "outputs": [
    {
     "data": {
      "text/plain": [
       "R&D Spend          0\n",
       "Administration     0\n",
       "Marketing Spend    0\n",
       "Profit             0\n",
       "dtype: int64"
      ]
     },
     "execution_count": 46,
     "metadata": {},
     "output_type": "execute_result"
    }
   ],
   "source": [
    "# check for missing values\n",
    "data.isnull().sum()"
   ]
  },
  {
   "cell_type": "code",
   "execution_count": 47,
   "id": "67ac92d4",
   "metadata": {},
   "outputs": [],
   "source": [
    "#split the data into features(x) and variable(y)\n",
    "X = data[['R&D Spend', 'Administration', 'Marketing Spend']]\n",
    "y = data['Profit']"
   ]
  },
  {
   "cell_type": "markdown",
   "id": "3f618c08",
   "metadata": {},
   "source": [
    "### 2. Scaling the data"
   ]
  },
  {
   "cell_type": "code",
   "execution_count": 48,
   "id": "bb058d6a",
   "metadata": {},
   "outputs": [
    {
     "name": "stdout",
     "output_type": "stream",
     "text": [
      "[[ 2.01641149e+00  5.60752915e-01  2.15394309e+00]\n",
      " [ 1.95586034e+00  1.08280658e+00  1.92360040e+00]\n",
      " [ 1.75436374e+00 -7.28257028e-01  1.62652767e+00]\n",
      " [ 1.55478369e+00 -9.63646307e-02  1.42221024e+00]\n",
      " [ 1.50493720e+00 -1.07991935e+00  1.28152771e+00]\n",
      " [ 1.27980001e+00 -7.76239071e-01  1.25421046e+00]\n",
      " [ 1.34006641e+00  9.32147208e-01 -6.88149930e-01]\n",
      " [ 1.24505666e+00  8.71980011e-01  9.32185978e-01]\n",
      " [ 1.03036886e+00  9.86952101e-01  8.30886909e-01]\n",
      " [ 1.09181921e+00 -4.56640246e-01  7.76107440e-01]\n",
      " [ 6.20398248e-01 -3.87599089e-01  1.49807267e-01]\n",
      " [ 5.93085418e-01 -1.06553960e+00  3.19833623e-01]\n",
      " [ 4.43259872e-01  2.15449064e-01  3.20617441e-01]\n",
      " [ 4.02077603e-01  5.10178953e-01  3.43956788e-01]\n",
      " [ 1.01718075e+00  1.26919939e+00  3.75742273e-01]\n",
      " [ 8.97913123e-01  4.58678535e-02  4.19218702e-01]\n",
      " [ 9.44411957e-02  9.11841968e-03  4.40446224e-01]\n",
      " [ 4.60720127e-01  8.55666318e-01  5.91016724e-01]\n",
      " [ 3.96724938e-01 -2.58465367e-01  6.92992062e-01]\n",
      " [ 2.79441650e-01  1.15983657e+00 -1.74312698e+00]\n",
      " [ 5.57260867e-02 -2.69587651e-01  7.23925995e-01]\n",
      " [ 1.02723599e-01  1.16918609e+00  7.32787791e-01]\n",
      " [ 6.00657792e-03  5.18495648e-02  7.62375876e-01]\n",
      " [-1.36200724e-01 -5.62211268e-01  7.74348908e-01]\n",
      " [ 7.31146008e-02 -7.95469167e-01 -5.81939297e-01]\n",
      " [-1.99311688e-01  6.56489139e-01 -6.03516725e-01]\n",
      " [ 3.53702028e-02  8.21717916e-01 -6.35835495e-01]\n",
      " [-3.55189938e-02  2.35068543e-01  1.17427116e+00]\n",
      " [-1.68792717e-01  2.21014050e+00 -7.67189437e-01]\n",
      " [-1.78608540e-01  1.14245677e+00 -8.58133663e-01]\n",
      " [-2.58074369e-01 -2.05628659e-01 -9.90357166e-01]\n",
      " [-2.76958231e-01  1.13055391e+00 -1.01441945e+00]\n",
      " [-2.26948675e-01  2.83923813e-01 -1.36244978e+00]\n",
      " [-4.01128925e-01 -6.59324033e-01  2.98172434e-02]\n",
      " [-6.00682122e-01  1.31053525e+00 -1.87861793e-03]\n",
      " [-6.09749941e-01 -1.30865753e+00 -4.54931587e-02]\n",
      " [-9.91570153e-01  2.05924691e-01 -8.17625734e-02]\n",
      " [-6.52532310e-01 -2.52599402e+00 -1.15608256e-01]\n",
      " [-1.17717755e+00 -1.99727037e+00 -2.12784866e-01]\n",
      " [-7.73820359e-01 -1.38312156e+00 -2.97583276e-01]\n",
      " [-9.89577015e-01 -1.00900218e-01 -3.15785883e-01]\n",
      " [-1.00853372e+00 -1.32079581e+00 -3.84552407e-01]\n",
      " [-1.10210556e+00 -9.06937535e-01 -5.20595959e-01]\n",
      " [-1.28113364e+00  2.17681524e-01 -1.44960468e+00]\n",
      " [-1.13430539e+00  1.20641936e+00 -1.50907418e+00]\n",
      " [-1.60035036e+00  1.01253936e-01 -1.72739998e+00]\n",
      " [-1.59341322e+00 -1.99321741e-01  7.11122474e-01]\n",
      " [-1.62236202e+00  5.07721876e-01 -1.74312698e+00]\n",
      " [-1.61043334e+00 -2.50940884e+00 -1.74312698e+00]\n",
      " [-1.62236202e+00 -1.57225506e-01 -1.36998473e+00]]\n"
     ]
    }
   ],
   "source": [
    "#Standardising the data\n",
    "from sklearn.preprocessing import StandardScaler\n",
    "scaler = StandardScaler()\n",
    "scaler.fit(X)\n",
    "X_scaled = scaler.transform(X)\n",
    "print(X_scaled)"
   ]
  },
  {
   "cell_type": "code",
   "execution_count": 49,
   "id": "4dc44bbe",
   "metadata": {},
   "outputs": [],
   "source": [
    "X_new=X_scaled"
   ]
  },
  {
   "cell_type": "markdown",
   "id": "e91cc6bf",
   "metadata": {},
   "source": [
    "## Train-test set split"
   ]
  },
  {
   "cell_type": "code",
   "execution_count": 50,
   "id": "57aacdee",
   "metadata": {},
   "outputs": [],
   "source": [
    "#split the data into traina data and test data\n",
    "X_train, X_test, y_train, y_test = train_test_split(X_new, y, train_size = 0.7, test_size = 0.3, random_state = 100)"
   ]
  },
  {
   "cell_type": "markdown",
   "id": "0a06ac9e",
   "metadata": {},
   "source": [
    "## Checking the model accuracy of different models using MSE\n"
   ]
  },
  {
   "cell_type": "code",
   "execution_count": 51,
   "id": "9b50642d",
   "metadata": {},
   "outputs": [
    {
     "name": "stdout",
     "output_type": "stream",
     "text": [
      "LR: 99046764.659402 (120306924.840315)\n",
      "CART: 400899498.600434 (400011549.559973)\n",
      "RF: 341314105.434174 (420324031.952692)\n"
     ]
    },
    {
     "data": {
      "image/png": "[encoded data removed]",
      "text/plain": [
       "<Figure size 1000x700 with 1 Axes>"
      ]
     },
     "metadata": {},
     "output_type": "display_data"
    }
   ],
   "source": [
    "#Checking different model accuracy\n",
    "from sklearn.model_selection import cross_val_score, KFold\n",
    "\n",
    "models = []\n",
    "models.append(('LR', LinearRegression()))\n",
    "models.append(('CART', DecisionTreeRegressor()))\n",
    "models.append(('RF', RandomForestRegressor()))\n",
    "\n",
    "# Evaluate each model in turn\n",
    "results = []\n",
    "names = []\n",
    "\n",
    "for name, model in models:\n",
    "    kfold = KFold(n_splits=10)\n",
    "    cv_results = cross_val_score(model, X_new, y, cv=kfold, scoring=\"neg_mean_squared_error\")\n",
    "    cv_results = -cv_results  # Take the negative of MSE to obtain positive values\n",
    "    results.append(cv_results)\n",
    "    names.append(name)\n",
    "    msg = \"%s: %f (%f)\" % (name, cv_results.mean(), cv_results.std())\n",
    "    print(msg)\n",
    "\n",
    "# Boxplot algorithm comparison\n",
    "fig = plt.figure(figsize=(10, 7))\n",
    "fig.suptitle('Algorithm Comparison')\n",
    "ax = fig.add_subplot(111)\n",
    "plt.boxplot(results)\n",
    "ax.set_xticklabels(names)\n",
    "plt.show()"
   ]
  },
  {
   "cell_type": "raw",
   "id": "b1078d4e",
   "metadata": {},
   "source": [
    "Name|      Mean      |      STD\n",
    "LR  :99046764.659402 :120306924.840315\n",
    "CART:407722158.915438:396241347.859639\n",
    "RF  :335736789.163234:418027933.906016\n",
    "\n",
    "\n",
    "Among the three random forest and decision tree regressor has the least value of cross validation score and the standard deviation. So we choose the following."
   ]
  },
  {
   "cell_type": "markdown",
   "id": "3b78eb36",
   "metadata": {},
   "source": [
    "## Construction of these algorithms"
   ]
  },
  {
   "cell_type": "code",
   "execution_count": 53,
   "id": "9b97c6de",
   "metadata": {},
   "outputs": [],
   "source": [
    "#construct different regression algorithms\n",
    "decision =DecisionTreeRegressor()\n",
    "random = RandomForestRegressor()"
   ]
  },
  {
   "cell_type": "markdown",
   "id": "67ddab01",
   "metadata": {},
   "source": [
    "## Training the models"
   ]
  },
  {
   "cell_type": "code",
   "execution_count": 54,
   "id": "b501a29a",
   "metadata": {
    "scrolled": true
   },
   "outputs": [
    {
     "data": {
      "text/html": [
       "<style>#sk-container-id-3 {color: black;background-color: white;}#sk-container-id-3 pre{padding: 0;}#sk-container-id-3 div.sk-toggleable {background-color: white;}#sk-container-id-3 label.sk-toggleable__label {cursor: pointer;display: block;width: 100%;margin-bottom: 0;padding: 0.3em;box-sizing: border-box;text-align: center;}#sk-container-id-3 label.sk-toggleable__label-arrow:before {content: \"▸\";float: left;margin-right: 0.25em;color: #696969;}#sk-container-id-3 label.sk-toggleable__label-arrow:hover:before {color: black;}#sk-container-id-3 div.sk-estimator:hover label.sk-toggleable__label-arrow:before {color: black;}#sk-container-id-3 div.sk-toggleable__content {max-height: 0;max-width: 0;overflow: hidden;text-align: left;background-color: #f0f8ff;}#sk-container-id-3 div.sk-toggleable__content pre {margin: 0.2em;color: black;border-radius: 0.25em;background-color: #f0f8ff;}#sk-container-id-3 input.sk-toggleable__control:checked~div.sk-toggleable__content {max-height: 200px;max-width: 100%;overflow: auto;}#sk-container-id-3 input.sk-toggleable__control:checked~label.sk-toggleable__label-arrow:before {content: \"▾\";}#sk-container-id-3 div.sk-estimator input.sk-toggleable__control:checked~label.sk-toggleable__label {background-color: #d4ebff;}#sk-container-id-3 div.sk-label input.sk-toggleable__control:checked~label.sk-toggleable__label {background-color: #d4ebff;}#sk-container-id-3 input.sk-hidden--visually {border: 0;clip: rect(1px 1px 1px 1px);clip: rect(1px, 1px, 1px, 1px);height: 1px;margin: -1px;overflow: hidden;padding: 0;position: absolute;width: 1px;}#sk-container-id-3 div.sk-estimator {font-family: monospace;background-color: #f0f8ff;border: 1px dotted black;border-radius: 0.25em;box-sizing: border-box;margin-bottom: 0.5em;}#sk-container-id-3 div.sk-estimator:hover {background-color: #d4ebff;}#sk-container-id-3 div.sk-parallel-item::after {content: \"\";width: 100%;border-bottom: 1px solid gray;flex-grow: 1;}#sk-container-id-3 div.sk-label:hover label.sk-toggleable__label {background-color: #d4ebff;}#sk-container-id-3 div.sk-serial::before {content: \"\";position: absolute;border-left: 1px solid gray;box-sizing: border-box;top: 0;bottom: 0;left: 50%;z-index: 0;}#sk-container-id-3 div.sk-serial {display: flex;flex-direction: column;align-items: center;background-color: white;padding-right: 0.2em;padding-left: 0.2em;position: relative;}#sk-container-id-3 div.sk-item {position: relative;z-index: 1;}#sk-container-id-3 div.sk-parallel {display: flex;align-items: stretch;justify-content: center;background-color: white;position: relative;}#sk-container-id-3 div.sk-item::before, #sk-container-id-3 div.sk-parallel-item::before {content: \"\";position: absolute;border-left: 1px solid gray;box-sizing: border-box;top: 0;bottom: 0;left: 50%;z-index: -1;}#sk-container-id-3 div.sk-parallel-item {display: flex;flex-direction: column;z-index: 1;position: relative;background-color: white;}#sk-container-id-3 div.sk-parallel-item:first-child::after {align-self: flex-end;width: 50%;}#sk-container-id-3 div.sk-parallel-item:last-child::after {align-self: flex-start;width: 50%;}#sk-container-id-3 div.sk-parallel-item:only-child::after {width: 0;}#sk-container-id-3 div.sk-dashed-wrapped {border: 1px dashed gray;margin: 0 0.4em 0.5em 0.4em;box-sizing: border-box;padding-bottom: 0.4em;background-color: white;}#sk-container-id-3 div.sk-label label {font-family: monospace;font-weight: bold;display: inline-block;line-height: 1.2em;}#sk-container-id-3 div.sk-label-container {text-align: center;}#sk-container-id-3 div.sk-container {/* jupyter's `normalize.less` sets `[hidden] { display: none; }` but bootstrap.min.css set `[hidden] { display: none !important; }` so we also need the `!important` here to be able to override the default hidden behavior on the sphinx rendered scikit-learn.org. See: https://github.com/scikit-learn/scikit-learn/issues/21755 */display: inline-block !important;position: relative;}#sk-container-id-3 div.sk-text-repr-fallback {display: none;}</style><div id=\"sk-container-id-3\" class=\"sk-top-container\"><div class=\"sk-text-repr-fallback\"><pre>RandomForestRegressor()</pre><b>In a Jupyter environment, please rerun this cell to show the HTML representation or trust the notebook. <br />On GitHub, the HTML representation is unable to render, please try loading this page with nbviewer.org.</b></div><div class=\"sk-container\" hidden><div class=\"sk-item\"><div class=\"sk-estimator sk-toggleable\"><input class=\"sk-toggleable__control sk-hidden--visually\" id=\"sk-estimator-id-3\" type=\"checkbox\" checked><label for=\"sk-estimator-id-3\" class=\"sk-toggleable__label sk-toggleable__label-arrow\">RandomForestRegressor</label><div class=\"sk-toggleable__content\"><pre>RandomForestRegressor()</pre></div></div></div></div></div>"
      ],
      "text/plain": [
       "RandomForestRegressor()"
      ]
     },
     "execution_count": 54,
     "metadata": {},
     "output_type": "execute_result"
    }
   ],
   "source": [
    "#Train the model based on the training set\n",
    "decision.fit(X_train, y_train)\n",
    "random.fit(X_train, y_train)"
   ]
  },
  {
   "cell_type": "markdown",
   "id": "1528e062",
   "metadata": {},
   "source": [
    "## Model testing"
   ]
  },
  {
   "cell_type": "code",
   "execution_count": 55,
   "id": "ab426ff9",
   "metadata": {},
   "outputs": [],
   "source": [
    "#predict the results\n",
    "decision_preds= decision.predict(X_test)\n",
    "randomforest_preds = random.predict(X_test)"
   ]
  },
  {
   "cell_type": "markdown",
   "id": "20d23432",
   "metadata": {},
   "source": [
    "## Model Evaluation"
   ]
  },
  {
   "cell_type": "code",
   "execution_count": 56,
   "id": "900cda9e",
   "metadata": {},
   "outputs": [],
   "source": [
    "#Calculations of matrices\n",
    "decision_tree_regression_metrics = {\n",
    "    'MSE': mean_squared_error(y_test, decision_preds),\n",
    "    'MAE': mean_absolute_error(y_test, decision_preds),\n",
    "    'R-squared': r2_score(y_test, decision_preds)\n",
    "}\n",
    "random_forest_regression_metrics = {\n",
    "    'MSE': mean_squared_error(y_test, randomforest_preds),\n",
    "    'MAE': mean_absolute_error(y_test, randomforest_preds),\n",
    "    'R-squared': r2_score(y_test, randomforest_preds)\n",
    "}\n"
   ]
  },
  {
   "cell_type": "code",
   "execution_count": 60,
   "id": "b5f37217",
   "metadata": {},
   "outputs": [
    {
     "name": "stdout",
     "output_type": "stream",
     "text": [
      "\n",
      "Decision Tree Regression Metrics:\n",
      "{'MSE': 247065375.57290667, 'MAE': 10818.602666666666, 'R-squared': 0.8686721415138203}\n",
      "\n",
      "Random Forest Regression Metrics:\n",
      "{'MSE': 156870358.7047839, 'MAE': 8524.781733333333, 'R-squared': 0.9166153969535937}\n"
     ]
    }
   ],
   "source": [
    "# Step 9: Print the regression metrics\n",
    "print()\n",
    "print(\"Decision Tree Regression Metrics:\")\n",
    "print(decision_tree_regression_metrics)\n",
    "print()\n",
    "print(\"Random Forest Regression Metrics:\")\n",
    "print(random_forest_regression_metrics)"
   ]
  },
  {
   "cell_type": "markdown",
   "id": "7a5297ea",
   "metadata": {},
   "source": [
    "## Model Selection"
   ]
  },
  {
   "cell_type": "code",
   "execution_count": 61,
   "id": "c4015b85",
   "metadata": {},
   "outputs": [],
   "source": [
    "#Choose the best model based on metrics\n",
    "best_model = min([decision_tree_regression_metrics, random_forest_regression_metrics], key=lambda x: x['MSE'])"
   ]
  },
  {
   "cell_type": "code",
   "execution_count": 62,
   "id": "1bf9e67b",
   "metadata": {},
   "outputs": [
    {
     "name": "stdout",
     "output_type": "stream",
     "text": [
      "Best Model:\n",
      "{'MSE': 156870358.7047839, 'MAE': 8524.781733333333, 'R-squared': 0.9166153969535937}\n"
     ]
    }
   ],
   "source": [
    "print(\"Best Model:\")\n",
    "print(best_model)"
   ]
  },
  {
   "cell_type": "markdown",
   "id": "4093997a",
   "metadata": {},
   "source": [
    "## Testing against user input"
   ]
  },
  {
   "cell_type": "code",
   "execution_count": 64,
   "id": "e1f7d570",
   "metadata": {},
   "outputs": [
    {
     "name": "stdout",
     "output_type": "stream",
     "text": [
      "Predicted Profit: 186979.64000000007\n"
     ]
    },
    {
     "name": "stderr",
     "output_type": "stream",
     "text": [
      "C:\\ProgramData\\anaconda3\\lib\\site-packages\\sklearn\\base.py:420: UserWarning: X does not have valid feature names, but StandardScaler was fitted with feature names\n",
      "  warnings.warn(\n"
     ]
    }
   ],
   "source": [
    "#Prediction\n",
    "\n",
    "# User-inputed data\n",
    "input_data = [[162597.7,151377.59,443898.53\n",
    "]]  # Replace with your own input data\n",
    "\n",
    "# Standardize the input data\n",
    "input_data_scaled = scaler.transform(input_data)\n",
    "\n",
    "# Make predictions using the random forest\n",
    "predicted_profit = random.predict(input_data_scaled)\n",
    "\n",
    "# Print the predicted profit\n",
    "print(\"Predicted Profit:\", predicted_profit[0])\n"
   ]
  },
  {
   "cell_type": "code",
   "execution_count": 65,
   "id": "aa1c0bf7",
   "metadata": {},
   "outputs": [
    {
     "data": {
      "image/png": "[encoded data removed]",
      "text/plain": [
       "<Figure size 640x480 with 1 Axes>"
      ]
     },
     "metadata": {},
     "output_type": "display_data"
    }
   ],
   "source": [
    "plt.scatter(y_test, randomforest_preds)\n",
    "plt.xlabel(\"Actual Profit\")\n",
    "plt.ylabel(\"Predicted Profit\")\n",
    "plt.title(\" Actual Profit vs Predicted Profit\")\n",
    "plt.show()"
   ]
  },
  {
   "cell_type": "markdown",
   "id": "6f5452e0",
   "metadata": {},
   "source": [
    "## Saving the training model"
   ]
  },
  {
   "cell_type": "code",
   "execution_count": 66,
   "id": "ae2c230d",
   "metadata": {},
   "outputs": [],
   "source": [
    "import pickle\n",
    "\n",
    "# Save the trained model\n",
    "model_file = 'X_train.pkl'\n",
    "pickle.dump(X_train, open(model_file, 'wb'))\n",
    "\n",
    "# Save the scaler object\n",
    "scaler_file = 'scaler.pkl'\n",
    "pickle.dump(scaler, open(scaler_file, 'wb'))"
   ]
  },
  {
   "cell_type": "code",
   "execution_count": 67,
   "id": "5194626d",
   "metadata": {},
   "outputs": [],
   "source": [
    "#Loading the saved model\n",
    "loaded_model = pickle.load(open('X_train.pkl','rb'))"
   ]
  },
  {
   "cell_type": "code",
   "execution_count": null,
   "id": "f7285a01",
   "metadata": {},
   "outputs": [],
   "source": []
  }
 ],
 "metadata": {
  "kernelspec": {
   "display_name": "Python 3 (ipykernel)",
   "language": "python",
   "name": "python3"
  },
  "language_info": {
   "codemirror_mode": {
    "name": "ipython",
    "version": 3
   },
   "file_extension": ".py",
   "mimetype": "text/x-python",
   "name": "python",
   "nbconvert_exporter": "python",
   "pygments_lexer": "ipython3",
   "version": "3.10.9"
  }
 },
 "nbformat": 4,
 "nbformat_minor": 5
}
